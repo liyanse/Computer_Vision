{
 "cells": [
  {
   "cell_type": "code",
   "execution_count": 2,
   "metadata": {},
   "outputs": [
    {
     "name": "stdout",
     "output_type": "stream",
     "text": [
      "Collecting labelme\n",
      "  Using cached labelme-5.2.0.post4.tar.gz (1.5 MB)\n",
      "  Preparing metadata (setup.py): started\n",
      "  Preparing metadata (setup.py): finished with status 'done'\n",
      "Collecting imgviz>=0.11\n",
      "  Using cached imgviz-1.7.2-py3-none-any.whl (7.7 MB)\n",
      "Collecting matplotlib\n",
      "  Using cached matplotlib-3.7.1-cp311-cp311-win_amd64.whl (7.6 MB)\n",
      "Collecting natsort>=7.1.0\n",
      "  Using cached natsort-8.3.1-py3-none-any.whl (38 kB)\n",
      "Requirement already satisfied: numpy in c:\\users\\lenovo\\desktop\\facial recognition\\env\\lib\\site-packages (from labelme) (1.24.3)\n",
      "Collecting Pillow>=2.8\n",
      "  Using cached Pillow-9.5.0-cp311-cp311-win_amd64.whl (2.5 MB)\n",
      "Collecting PyYAML\n",
      "  Using cached PyYAML-6.0-cp311-cp311-win_amd64.whl (143 kB)\n",
      "Collecting qtpy!=1.11.2\n",
      "  Using cached QtPy-2.3.1-py3-none-any.whl (84 kB)\n",
      "Requirement already satisfied: termcolor in c:\\users\\lenovo\\desktop\\facial recognition\\env\\lib\\site-packages (from labelme) (2.3.0)\n",
      "Requirement already satisfied: colorama in c:\\users\\lenovo\\desktop\\facial recognition\\env\\lib\\site-packages (from labelme) (0.4.6)\n",
      "Requirement already satisfied: packaging in c:\\users\\lenovo\\desktop\\facial recognition\\env\\lib\\site-packages (from qtpy!=1.11.2->labelme) (23.1)\n",
      "Collecting contourpy>=1.0.1\n",
      "  Using cached contourpy-1.0.7-cp311-cp311-win_amd64.whl (162 kB)\n",
      "Collecting cycler>=0.10\n",
      "  Using cached cycler-0.11.0-py3-none-any.whl (6.4 kB)\n",
      "Collecting fonttools>=4.22.0\n",
      "  Using cached fonttools-4.39.4-py3-none-any.whl (1.0 MB)\n",
      "Collecting kiwisolver>=1.0.1\n",
      "  Using cached kiwisolver-1.4.4-cp311-cp311-win_amd64.whl (55 kB)\n",
      "Collecting pyparsing>=2.3.1\n",
      "  Using cached pyparsing-3.0.9-py3-none-any.whl (98 kB)\n",
      "Requirement already satisfied: python-dateutil>=2.7 in c:\\users\\lenovo\\desktop\\facial recognition\\env\\lib\\site-packages (from matplotlib->labelme) (2.8.2)\n",
      "Requirement already satisfied: six>=1.5 in c:\\users\\lenovo\\desktop\\facial recognition\\env\\lib\\site-packages (from python-dateutil>=2.7->matplotlib->labelme) (1.16.0)\n",
      "Building wheels for collected packages: labelme\n",
      "  Building wheel for labelme (setup.py): started\n",
      "  Building wheel for labelme (setup.py): finished with status 'done'\n",
      "  Created wheel for labelme: filename=labelme-5.2.0.post4-py3-none-any.whl size=1466821 sha256=8fb1f73f13c5ea840a6bf5c5b10dcff1f4f1377a9546f4d931d46ab9aab264ba\n",
      "  Stored in directory: c:\\users\\lenovo\\appdata\\local\\pip\\cache\\wheels\\dd\\9e\\f1\\ad91c7b9daa53d481f7ce7ab760c09129125c57648b4d9810c\n",
      "Successfully built labelme\n",
      "Installing collected packages: qtpy, PyYAML, pyparsing, Pillow, natsort, kiwisolver, fonttools, cycler, contourpy, matplotlib, imgviz, labelme\n",
      "Successfully installed Pillow-9.5.0 PyYAML-6.0 contourpy-1.0.7 cycler-0.11.0 fonttools-4.39.4 imgviz-1.7.2 kiwisolver-1.4.4 labelme-5.2.0.post4 matplotlib-3.7.1 natsort-8.3.1 pyparsing-3.0.9 qtpy-2.3.1\n",
      "Note: you may need to restart the kernel to use updated packages.\n"
     ]
    },
    {
     "name": "stderr",
     "output_type": "stream",
     "text": [
      "\n",
      "[notice] A new release of pip available: 22.3.1 -> 23.1.2\n",
      "[notice] To update, run: python.exe -m pip install --upgrade pip\n"
     ]
    }
   ],
   "source": [
    "%pip install labelme"
   ]
  },
  {
   "cell_type": "code",
   "execution_count": 7,
   "metadata": {},
   "outputs": [
    {
     "name": "stdout",
     "output_type": "stream",
     "text": [
      "Collecting pyqt5\n",
      "  Using cached PyQt5-5.15.9-cp37-abi3-win_amd64.whl (6.8 MB)\n",
      "Collecting PyQt5-sip<13,>=12.11\n",
      "  Using cached PyQt5_sip-12.12.1-cp311-cp311-win_amd64.whl (78 kB)\n",
      "Requirement already satisfied: PyQt5-Qt5>=5.15.2 in c:\\users\\lenovo\\desktop\\facial recognition\\env\\lib\\site-packages (from pyqt5) (5.15.2)\n",
      "Installing collected packages: PyQt5-sip, pyqt5\n",
      "Successfully installed PyQt5-sip-12.12.1 pyqt5-5.15.9\n",
      "Note: you may need to restart the kernel to use updated packages.\n"
     ]
    },
    {
     "name": "stderr",
     "output_type": "stream",
     "text": [
      "\n",
      "[notice] A new release of pip available: 22.3.1 -> 23.1.2\n",
      "[notice] To update, run: python.exe -m pip install --upgrade pip\n"
     ]
    }
   ],
   "source": [
    "%pip install pyqt5\n"
   ]
  },
  {
   "cell_type": "code",
   "execution_count": 8,
   "metadata": {},
   "outputs": [],
   "source": [
    "!labelme"
   ]
  },
  {
   "attachments": {},
   "cell_type": "markdown",
   "metadata": {},
   "source": [
    "You can find more about the labelme documentation here and how to use it here;\n",
    "\n",
    "    https://github.com/wkentaro/labelme\n",
    "    https://www.v7labs.com/blog/labelme-guide"
   ]
  },
  {
   "cell_type": "code",
   "execution_count": null,
   "metadata": {},
   "outputs": [],
   "source": []
  }
 ],
 "metadata": {
  "kernelspec": {
   "display_name": "env",
   "language": "python",
   "name": "python3"
  },
  "language_info": {
   "codemirror_mode": {
    "name": "ipython",
    "version": 3
   },
   "file_extension": ".py",
   "mimetype": "text/x-python",
   "name": "python",
   "nbconvert_exporter": "python",
   "pygments_lexer": "ipython3",
   "version": "3.11.3"
  },
  "orig_nbformat": 4
 },
 "nbformat": 4,
 "nbformat_minor": 2
}
