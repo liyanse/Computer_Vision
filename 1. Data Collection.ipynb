{
 "cells": [
  {
   "attachments": {},
   "cell_type": "markdown",
   "metadata": {},
   "source": [
    "## Collecting Images using Open-Cv and Web Cam"
   ]
  },
  {
   "cell_type": "code",
   "execution_count": 1,
   "metadata": {},
   "outputs": [],
   "source": [
    "import os\n",
    "import time\n",
    "import uuid\n",
    "import cv2"
   ]
  },
  {
   "cell_type": "code",
   "execution_count": 5,
   "metadata": {},
   "outputs": [],
   "source": [
    "# Create a directory to store the images\n",
    "data_dir = \"data\"\n",
    "images_dir = os.path.join(data_dir, \"images\")\n",
    "os.makedirs(images_dir, exist_ok=True)\n",
    "\n",
    "# Get the webcam\n",
    "cap = cv2.VideoCapture(0)\n",
    "\n",
    "# Capture 30 images\n",
    "for i in range(30):\n",
    "    # Capture an image\n",
    "    ret, frame = cap.read()\n",
    "\n",
    "    # Create a unique identifier for the image\n",
    "    uuid_str = uuid.uuid4().hex\n",
    "\n",
    "    # Save the image\n",
    "    cv2.imwrite(os.path.join(images_dir, uuid_str + \".jpg\"), frame)\n",
    "\n",
    "    # Wait 5 seconds before capturing the next image\n",
    "    time.sleep(5)\n",
    "\n",
    "# Release the webcam\n",
    "cap.release()"
   ]
  },
  {
   "cell_type": "code",
   "execution_count": null,
   "metadata": {},
   "outputs": [],
   "source": []
  }
 ],
 "metadata": {
  "kernelspec": {
   "display_name": "env",
   "language": "python",
   "name": "python3"
  },
  "language_info": {
   "codemirror_mode": {
    "name": "ipython",
    "version": 3
   },
   "file_extension": ".py",
   "mimetype": "text/x-python",
   "name": "python",
   "nbconvert_exporter": "python",
   "pygments_lexer": "ipython3",
   "version": "3.11.3"
  },
  "orig_nbformat": 4
 },
 "nbformat": 4,
 "nbformat_minor": 2
}
