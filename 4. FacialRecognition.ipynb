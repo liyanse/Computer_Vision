{
 "cells": [
  {
   "attachments": {},
   "cell_type": "markdown",
   "metadata": {},
   "source": [
    "## Installing the necessary libraries"
   ]
  },
  {
   "attachments": {},
   "cell_type": "markdown",
   "metadata": {},
   "source": [
    "1. Setup"
   ]
  },
  {
   "attachments": {},
   "cell_type": "markdown",
   "metadata": {},
   "source": [
    "1.1 Import libraries"
   ]
  },
  {
   "cell_type": "code",
   "execution_count": null,
   "metadata": {},
   "outputs": [],
   "source": [
    "import tensorflow as tf\n",
    "import json\n",
    "import numpy as np\n",
    "from matplotlib import pyplot as plt\n",
    "import cv2"
   ]
  },
  {
   "attachments": {},
   "cell_type": "markdown",
   "metadata": {},
   "source": [
    "2.1  Splitting the Dataset into Test, Train and Validation Set"
   ]
  },
  {
   "cell_type": "code",
   "execution_count": null,
   "metadata": {},
   "outputs": [],
   "source": [
    "import os\n",
    "import shutil\n",
    "\n",
    "# Get the path to the data folder\n",
    "data_dir = \"data\"\n",
    "\n",
    "# Get the path to the images folder\n",
    "images_dir = os.path.join(data_dir, \"images\")\n",
    "\n",
    "# Get the list of all images in the images folder\n",
    "images = os.listdir(images_dir)\n",
    "\n",
    "# Split the images into train, test and validation sets\n",
    "train_images = images[:int(len(images) * 0.6)]\n",
    "test_images = images[int(len(images) * 0.6):int(len(images) * 0.8)]\n",
    "validation_images = images[int(len(images) * 0.8):]\n",
    "\n",
    "# Create the train, test and validation folders\n",
    "train_dir = os.path.join(data_dir, \"train\")\n",
    "test_dir = os.path.join(data_dir, \"test\")\n",
    "validation_dir = os.path.join(data_dir, \"validation\")\n",
    "\n",
    "# Create the train, test and validation subdirectories\n",
    "for directory in [train_dir, test_dir, validation_dir]:\n",
    "    if not os.path.exists(directory):\n",
    "        os.mkdir(directory)\n",
    "\n",
    "# Move the images to the train, test and validation folders\n",
    "for image in train_images:\n",
    "    shutil.move(os.path.join(images_dir, image), os.path.join(train_dir, image))\n",
    "\n",
    "for image in test_images:\n",
    "    shutil.move(os.path.join(images_dir, image), os.path.join(test_dir, image))\n",
    "\n",
    "for image in validation_images:\n",
    "    shutil.move(os.path.join(images_dir, image), os.path.join(validation_dir, image))"
   ]
  },
  {
   "attachments": {},
   "cell_type": "markdown",
   "metadata": {},
   "source": [
    "2.2 Move the Matching Labels"
   ]
  },
  {
   "cell_type": "code",
   "execution_count": 3,
   "metadata": {},
   "outputs": [],
   "source": [
    "import os\n",
    "\n",
    "# Get the path to the data folder\n",
    "data_dir = \"data\"\n",
    "\n",
    "# Get the list of all folders in the data folder\n",
    "folders = os.listdir(data_dir)\n",
    "\n",
    "# Loop over all folders\n",
    "for folder in folders:\n",
    "\n",
    "    # Get the path to the images folder in the current folder\n",
    "    images_dir = os.path.join(data_dir, folder)\n",
    "\n",
    "    # Get the list of all images in the images folder\n",
    "    images = os.listdir(images_dir)\n",
    "\n",
    "    # Loop over all images\n",
    "    for image in images:\n",
    "\n",
    "        # Get the path to the label for the current image\n",
    "        label_path = os.path.join(data_dir, folder, \"labels\", image + \".json\")\n",
    "\n",
    "        # Check if the label exists\n",
    "        if os.path.exists(label_path):\n",
    "\n",
    "            # Get the name of the label\n",
    "            label_name = os.path.basename(label_path)\n",
    "\n",
    "            # Get the name of the image\n",
    "            image_name = os.path.basename(image)\n",
    "\n",
    "            # Check if the label name and image name are the same\n",
    "            if label_name == image_name:\n",
    "\n",
    "                # Move the label into the same folder as the image\n",
    "                shutil.move(label_path, os.path.join(images_dir, label_name))\n"
   ]
  },
  {
   "attachments": {},
   "cell_type": "markdown",
   "metadata": {},
   "source": [
    "3. Apply Image Augmentation on Images and Labels using Albumentations"
   ]
  },
  {
   "attachments": {},
   "cell_type": "markdown",
   "metadata": {},
   "source": [
    "3.1 Setup Albumentations Transform Pipeline"
   ]
  },
  {
   "cell_type": "code",
   "execution_count": 4,
   "metadata": {},
   "outputs": [],
   "source": [
    "import os\n",
    "import shutil\n",
    "\n",
    "# Get the path to the train folder\n",
    "train_dir = \"data/validation\"\n",
    "### We do the same for the test and train folders, just change names in the path above\n",
    "\n",
    "# Create a new folder for images\n",
    "images_dir = os.path.join(train_dir, \"images\")\n",
    "\n",
    "# Create a new folder for labels\n",
    "labels_dir = os.path.join(train_dir, \"labels\")\n",
    "\n",
    "# Check if the images folder already exists\n",
    "if not os.path.exists(images_dir):\n",
    "    # Create the images folder\n",
    "    os.mkdir(images_dir)\n",
    "\n",
    "# Check if the labels folder already exists\n",
    "if not os.path.exists(labels_dir):\n",
    "    # Create the labels folder\n",
    "    os.mkdir(labels_dir)\n",
    "\n",
    "# Loop through all the files in the train folder\n",
    "for file in os.listdir(train_dir):\n",
    "    # Get the file extension\n",
    "    file_ext = os.path.splitext(file)[1]\n",
    "\n",
    "    # If the file extension is .jpg, move the file to the images folder\n",
    "    if file_ext == \".jpg\":\n",
    "        shutil.move(os.path.join(train_dir, file), os.path.join(images_dir, file))\n",
    "\n",
    "    # If the file extension is .json, move the file to the labels folder\n",
    "    elif file_ext == \".json\":\n",
    "        shutil.move(os.path.join(train_dir, file), os.path.join(labels_dir, file))\n"
   ]
  },
  {
   "attachments": {},
   "cell_type": "markdown",
   "metadata": {},
   "source": [
    "3.1 Setup Albumentations Transform Pipeline"
   ]
  },
  {
   "cell_type": "code",
   "execution_count": 5,
   "metadata": {},
   "outputs": [],
   "source": [
    "import albumentations as alb"
   ]
  },
  {
   "cell_type": "code",
   "execution_count": 6,
   "metadata": {},
   "outputs": [],
   "source": [
    "augmentor = alb.Compose([alb.RandomCrop(width=450, height=450), \n",
    "                         alb.HorizontalFlip(p=0.5), \n",
    "                         alb.RandomBrightnessContrast(p=0.2),\n",
    "                         alb.RandomGamma(p=0.2), \n",
    "                         alb.RGBShift(p=0.2), \n",
    "                         alb.VerticalFlip(p=0.5)], \n",
    "                       bbox_params=alb.BboxParams(format='albumentations', \n",
    "                                                  label_fields=['class_labels']))"
   ]
  },
  {
   "attachments": {},
   "cell_type": "markdown",
   "metadata": {},
   "source": [
    "3.2 Load a Test Image and Annotation with OpenCV and JSON"
   ]
  },
  {
   "cell_type": "code",
   "execution_count": 7,
   "metadata": {},
   "outputs": [],
   "source": [
    "img = cv2.imread(os.path.join('data','train', 'images','2a08733595044c579f95d8cb8aaaf909.jpg'))"
   ]
  },
  {
   "cell_type": "code",
   "execution_count": 8,
   "metadata": {},
   "outputs": [],
   "source": [
    "with open(os.path.join('data', 'train', 'labels', '2a08733595044c579f95d8cb8aaaf909.json'), 'r') as f:\n",
    "    label = json.load(f)"
   ]
  },
  {
   "cell_type": "code",
   "execution_count": 9,
   "metadata": {},
   "outputs": [
    {
     "data": {
      "text/plain": [
       "[[213.13725490196074, 178.97058823529414],\n",
       " [392.5490196078431, 446.61764705882354]]"
      ]
     },
     "execution_count": 9,
     "metadata": {},
     "output_type": "execute_result"
    }
   ],
   "source": [
    "label['shapes'][0]['points']"
   ]
  },
  {
   "attachments": {},
   "cell_type": "markdown",
   "metadata": {},
   "source": [
    "3.3 Extract Coordinates and Rescale to Match Image Resolution"
   ]
  },
  {
   "cell_type": "code",
   "execution_count": 10,
   "metadata": {},
   "outputs": [],
   "source": [
    "coords = [0,0,0,0]\n",
    "coords[0] = label['shapes'][0]['points'][0][0]\n",
    "coords[1] = label['shapes'][0]['points'][0][1]\n",
    "coords[2] = label['shapes'][0]['points'][1][0]\n",
    "coords[3] = label['shapes'][0]['points'][1][1]"
   ]
  },
  {
   "cell_type": "code",
   "execution_count": 11,
   "metadata": {},
   "outputs": [
    {
     "data": {
      "text/plain": [
       "[213.13725490196074, 178.97058823529414, 392.5490196078431, 446.61764705882354]"
      ]
     },
     "execution_count": 11,
     "metadata": {},
     "output_type": "execute_result"
    }
   ],
   "source": [
    "coords"
   ]
  },
  {
   "cell_type": "code",
   "execution_count": null,
   "metadata": {},
   "outputs": [],
   "source": [
    "coords = list(np.divide(coords, [640,480,640,480]))"
   ]
  },
  {
   "cell_type": "code",
   "execution_count": null,
   "metadata": {},
   "outputs": [],
   "source": [
    "coords"
   ]
  },
  {
   "attachments": {},
   "cell_type": "markdown",
   "metadata": {},
   "source": [
    "3.4 Apply Augmentations and View Results"
   ]
  },
  {
   "cell_type": "code",
   "execution_count": 12,
   "metadata": {},
   "outputs": [
    {
     "ename": "ValueError",
     "evalue": "Expected x_min for bbox [213.13725490196074, 178.97058823529414, 392.5490196078431, 446.61764705882354, 'face'] to be in the range [0.0, 1.0], got 213.13725490196074.",
     "output_type": "error",
     "traceback": [
      "\u001b[1;31m---------------------------------------------------------------------------\u001b[0m",
      "\u001b[1;31mValueError\u001b[0m                                Traceback (most recent call last)",
      "Cell \u001b[1;32mIn[12], line 1\u001b[0m\n\u001b[1;32m----> 1\u001b[0m augmented \u001b[39m=\u001b[39m augmentor(image\u001b[39m=\u001b[39;49mimg, bboxes\u001b[39m=\u001b[39;49m[coords], class_labels\u001b[39m=\u001b[39;49m[\u001b[39m'\u001b[39;49m\u001b[39mface\u001b[39;49m\u001b[39m'\u001b[39;49m])\n",
      "File \u001b[1;32mc:\\Users\\LENOVO\\Desktop\\Facial Recognition\\env\\Lib\\site-packages\\albumentations\\core\\composition.py:202\u001b[0m, in \u001b[0;36mCompose.__call__\u001b[1;34m(self, force_apply, *args, **data)\u001b[0m\n\u001b[0;32m    197\u001b[0m check_each_transform \u001b[39m=\u001b[39m \u001b[39many\u001b[39m(\n\u001b[0;32m    198\u001b[0m     \u001b[39mgetattr\u001b[39m(item\u001b[39m.\u001b[39mparams, \u001b[39m\"\u001b[39m\u001b[39mcheck_each_transform\u001b[39m\u001b[39m\"\u001b[39m, \u001b[39mFalse\u001b[39;00m) \u001b[39mfor\u001b[39;00m item \u001b[39min\u001b[39;00m \u001b[39mself\u001b[39m\u001b[39m.\u001b[39mprocessors\u001b[39m.\u001b[39mvalues()\n\u001b[0;32m    199\u001b[0m )\n\u001b[0;32m    201\u001b[0m \u001b[39mfor\u001b[39;00m p \u001b[39min\u001b[39;00m \u001b[39mself\u001b[39m\u001b[39m.\u001b[39mprocessors\u001b[39m.\u001b[39mvalues():\n\u001b[1;32m--> 202\u001b[0m     p\u001b[39m.\u001b[39;49mpreprocess(data)\n\u001b[0;32m    204\u001b[0m \u001b[39mfor\u001b[39;00m idx, t \u001b[39min\u001b[39;00m \u001b[39menumerate\u001b[39m(transforms):\n\u001b[0;32m    205\u001b[0m     data \u001b[39m=\u001b[39m t(\u001b[39m*\u001b[39m\u001b[39m*\u001b[39mdata)\n",
      "File \u001b[1;32mc:\\Users\\LENOVO\\Desktop\\Facial Recognition\\env\\Lib\\site-packages\\albumentations\\core\\utils.py:83\u001b[0m, in \u001b[0;36mDataProcessor.preprocess\u001b[1;34m(self, data)\u001b[0m\n\u001b[0;32m     81\u001b[0m rows, cols \u001b[39m=\u001b[39m data[\u001b[39m\"\u001b[39m\u001b[39mimage\u001b[39m\u001b[39m\"\u001b[39m]\u001b[39m.\u001b[39mshape[:\u001b[39m2\u001b[39m]\n\u001b[0;32m     82\u001b[0m \u001b[39mfor\u001b[39;00m data_name \u001b[39min\u001b[39;00m \u001b[39mself\u001b[39m\u001b[39m.\u001b[39mdata_fields:\n\u001b[1;32m---> 83\u001b[0m     data[data_name] \u001b[39m=\u001b[39m \u001b[39mself\u001b[39;49m\u001b[39m.\u001b[39;49mcheck_and_convert(data[data_name], rows, cols, direction\u001b[39m=\u001b[39;49m\u001b[39m\"\u001b[39;49m\u001b[39mto\u001b[39;49m\u001b[39m\"\u001b[39;49m)\n",
      "File \u001b[1;32mc:\\Users\\LENOVO\\Desktop\\Facial Recognition\\env\\Lib\\site-packages\\albumentations\\core\\utils.py:87\u001b[0m, in \u001b[0;36mDataProcessor.check_and_convert\u001b[1;34m(self, data, rows, cols, direction)\u001b[0m\n\u001b[0;32m     85\u001b[0m \u001b[39mdef\u001b[39;00m \u001b[39mcheck_and_convert\u001b[39m(\u001b[39mself\u001b[39m, data: Sequence, rows: \u001b[39mint\u001b[39m, cols: \u001b[39mint\u001b[39m, direction: \u001b[39mstr\u001b[39m \u001b[39m=\u001b[39m \u001b[39m\"\u001b[39m\u001b[39mto\u001b[39m\u001b[39m\"\u001b[39m) \u001b[39m-\u001b[39m\u001b[39m>\u001b[39m Sequence:\n\u001b[0;32m     86\u001b[0m     \u001b[39mif\u001b[39;00m \u001b[39mself\u001b[39m\u001b[39m.\u001b[39mparams\u001b[39m.\u001b[39mformat \u001b[39m==\u001b[39m \u001b[39m\"\u001b[39m\u001b[39malbumentations\u001b[39m\u001b[39m\"\u001b[39m:\n\u001b[1;32m---> 87\u001b[0m         \u001b[39mself\u001b[39;49m\u001b[39m.\u001b[39;49mcheck(data, rows, cols)\n\u001b[0;32m     88\u001b[0m         \u001b[39mreturn\u001b[39;00m data\n\u001b[0;32m     90\u001b[0m     \u001b[39mif\u001b[39;00m direction \u001b[39m==\u001b[39m \u001b[39m\"\u001b[39m\u001b[39mto\u001b[39m\u001b[39m\"\u001b[39m:\n",
      "File \u001b[1;32mc:\\Users\\LENOVO\\Desktop\\Facial Recognition\\env\\Lib\\site-packages\\albumentations\\core\\bbox_utils.py:118\u001b[0m, in \u001b[0;36mBboxProcessor.check\u001b[1;34m(self, data, rows, cols)\u001b[0m\n\u001b[0;32m    117\u001b[0m \u001b[39mdef\u001b[39;00m \u001b[39mcheck\u001b[39m(\u001b[39mself\u001b[39m, data: Sequence, rows: \u001b[39mint\u001b[39m, cols: \u001b[39mint\u001b[39m) \u001b[39m-\u001b[39m\u001b[39m>\u001b[39m \u001b[39mNone\u001b[39;00m:\n\u001b[1;32m--> 118\u001b[0m     check_bboxes(data)\n",
      "File \u001b[1;32mc:\\Users\\LENOVO\\Desktop\\Facial Recognition\\env\\Lib\\site-packages\\albumentations\\core\\bbox_utils.py:428\u001b[0m, in \u001b[0;36mcheck_bboxes\u001b[1;34m(bboxes)\u001b[0m\n\u001b[0;32m    426\u001b[0m \u001b[39m\u001b[39m\u001b[39m\"\"\"Check if bboxes boundaries are in range 0, 1 and minimums are lesser then maximums\"\"\"\u001b[39;00m\n\u001b[0;32m    427\u001b[0m \u001b[39mfor\u001b[39;00m bbox \u001b[39min\u001b[39;00m bboxes:\n\u001b[1;32m--> 428\u001b[0m     check_bbox(bbox)\n",
      "File \u001b[1;32mc:\\Users\\LENOVO\\Desktop\\Facial Recognition\\env\\Lib\\site-packages\\albumentations\\core\\bbox_utils.py:417\u001b[0m, in \u001b[0;36mcheck_bbox\u001b[1;34m(bbox)\u001b[0m\n\u001b[0;32m    415\u001b[0m \u001b[39mfor\u001b[39;00m name, value \u001b[39min\u001b[39;00m \u001b[39mzip\u001b[39m([\u001b[39m\"\u001b[39m\u001b[39mx_min\u001b[39m\u001b[39m\"\u001b[39m, \u001b[39m\"\u001b[39m\u001b[39my_min\u001b[39m\u001b[39m\"\u001b[39m, \u001b[39m\"\u001b[39m\u001b[39mx_max\u001b[39m\u001b[39m\"\u001b[39m, \u001b[39m\"\u001b[39m\u001b[39my_max\u001b[39m\u001b[39m\"\u001b[39m], bbox[:\u001b[39m4\u001b[39m]):\n\u001b[0;32m    416\u001b[0m     \u001b[39mif\u001b[39;00m \u001b[39mnot\u001b[39;00m \u001b[39m0\u001b[39m \u001b[39m<\u001b[39m\u001b[39m=\u001b[39m value \u001b[39m<\u001b[39m\u001b[39m=\u001b[39m \u001b[39m1\u001b[39m \u001b[39mand\u001b[39;00m \u001b[39mnot\u001b[39;00m np\u001b[39m.\u001b[39misclose(value, \u001b[39m0\u001b[39m) \u001b[39mand\u001b[39;00m \u001b[39mnot\u001b[39;00m np\u001b[39m.\u001b[39misclose(value, \u001b[39m1\u001b[39m):\n\u001b[1;32m--> 417\u001b[0m         \u001b[39mraise\u001b[39;00m \u001b[39mValueError\u001b[39;00m(\u001b[39mf\u001b[39m\u001b[39m\"\u001b[39m\u001b[39mExpected \u001b[39m\u001b[39m{\u001b[39;00mname\u001b[39m}\u001b[39;00m\u001b[39m for bbox \u001b[39m\u001b[39m{\u001b[39;00mbbox\u001b[39m}\u001b[39;00m\u001b[39m to be in the range [0.0, 1.0], got \u001b[39m\u001b[39m{\u001b[39;00mvalue\u001b[39m}\u001b[39;00m\u001b[39m.\u001b[39m\u001b[39m\"\u001b[39m)\n\u001b[0;32m    418\u001b[0m x_min, y_min, x_max, y_max \u001b[39m=\u001b[39m bbox[:\u001b[39m4\u001b[39m]\n\u001b[0;32m    419\u001b[0m \u001b[39mif\u001b[39;00m x_max \u001b[39m<\u001b[39m\u001b[39m=\u001b[39m x_min:\n",
      "\u001b[1;31mValueError\u001b[0m: Expected x_min for bbox [213.13725490196074, 178.97058823529414, 392.5490196078431, 446.61764705882354, 'face'] to be in the range [0.0, 1.0], got 213.13725490196074."
     ]
    }
   ],
   "source": [
    "augmented = augmentor(image=img, bboxes=[coords], class_labels=['face'])"
   ]
  },
  {
   "cell_type": "code",
   "execution_count": 13,
   "metadata": {},
   "outputs": [
    {
     "ename": "NameError",
     "evalue": "name 'augmented' is not defined",
     "output_type": "error",
     "traceback": [
      "\u001b[1;31m---------------------------------------------------------------------------\u001b[0m",
      "\u001b[1;31mNameError\u001b[0m                                 Traceback (most recent call last)",
      "Cell \u001b[1;32mIn[13], line 1\u001b[0m\n\u001b[1;32m----> 1\u001b[0m augmented[\u001b[39m'\u001b[39m\u001b[39mbboxes\u001b[39m\u001b[39m'\u001b[39m][\u001b[39m0\u001b[39m][\u001b[39m2\u001b[39m:]\n",
      "\u001b[1;31mNameError\u001b[0m: name 'augmented' is not defined"
     ]
    }
   ],
   "source": [
    "augmented['bboxes'][0][2:]"
   ]
  },
  {
   "cell_type": "code",
   "execution_count": null,
   "metadata": {},
   "outputs": [],
   "source": [
    "augmented['bboxes']"
   ]
  },
  {
   "cell_type": "code",
   "execution_count": null,
   "metadata": {},
   "outputs": [],
   "source": [
    "cv2.rectangle(augmented['image'], \n",
    "              tuple(np.multiply(augmented['bboxes'][0][:2], [450,450]).astype(int)),\n",
    "              tuple(np.multiply(augmented['bboxes'][0][2:], [450,450]).astype(int)), \n",
    "                    (255,0,0), 2)\n",
    "\n",
    "plt.imshow(augmented['image'])"
   ]
  },
  {
   "attachments": {},
   "cell_type": "markdown",
   "metadata": {},
   "source": [
    "5. Build and Run Augmentation Pipeline"
   ]
  },
  {
   "attachments": {},
   "cell_type": "markdown",
   "metadata": {},
   "source": [
    "5.1 Run Augmentation Pipeline"
   ]
  },
  {
   "cell_type": "code",
   "execution_count": null,
   "metadata": {},
   "outputs": [],
   "source": [
    "for partition in ['train','test','validation']: \n",
    "    for image in os.listdir(os.path.join('data', partition, 'images')):\n",
    "        img = cv2.imread(os.path.join('data', partition, 'images', image))\n",
    "\n",
    "        coords = [0,0,0.00001,0.00001]\n",
    "        label_path = os.path.join('data', partition, 'labels', f'{image.split(\".\")[0]}.json')\n",
    "        if os.path.exists(label_path):\n",
    "            with open(label_path, 'r') as f:\n",
    "                label = json.load(f)\n",
    "\n",
    "            coords[0] = label['shapes'][0]['points'][0][0]\n",
    "            coords[1] = label['shapes'][0]['points'][0][1]\n",
    "            coords[2] = label['shapes'][0]['points'][1][0]\n",
    "            coords[3] = label['shapes'][0]['points'][1][1]\n",
    "            coords = list(np.divide(coords, [640,480,640,480]))\n",
    "\n",
    "        try: \n",
    "            for x in range(60):\n",
    "                augmented = augmentor(image=img, bboxes=[coords], class_labels=['face'])\n",
    "                cv2.imwrite(os.path.join('aug_data', partition, 'images', f'{image.split(\".\")[0]}.{x}.jpg'), augmented['image'])\n",
    "\n",
    "                annotation = {}\n",
    "                annotation['image'] = image\n",
    "\n",
    "                if os.path.exists(label_path):\n",
    "                    if len(augmented['bboxes']) == 0: \n",
    "                        annotation['bbox'] = [0,0,0,0]\n",
    "                        annotation['class'] = 0 \n",
    "                    else: \n",
    "                        annotation['bbox'] = augmented['bboxes'][0]\n",
    "                        annotation['class'] = 1\n",
    "                else: \n",
    "                    annotation['bbox'] = [0,0,0,0]\n",
    "                    annotation['class'] = 0 \n",
    "\n",
    "\n",
    "                with open(os.path.join('data', partition, 'labels', f'{image.split(\".\")[0]}.{x}.json'), 'w') as f:\n",
    "                    json.dump(annotation, f)\n",
    "\n",
    "        except Exception as e:\n",
    "            print(e)"
   ]
  },
  {
   "cell_type": "code",
   "execution_count": null,
   "metadata": {},
   "outputs": [],
   "source": [
    "\n"
   ]
  }
 ],
 "metadata": {
  "kernelspec": {
   "display_name": "env",
   "language": "python",
   "name": "python3"
  },
  "language_info": {
   "codemirror_mode": {
    "name": "ipython",
    "version": 3
   },
   "file_extension": ".py",
   "mimetype": "text/x-python",
   "name": "python",
   "nbconvert_exporter": "python",
   "pygments_lexer": "ipython3",
   "version": "3.11.3"
  },
  "orig_nbformat": 4
 },
 "nbformat": 4,
 "nbformat_minor": 2
}
